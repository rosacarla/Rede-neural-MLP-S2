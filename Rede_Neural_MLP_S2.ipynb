{
  "nbformat": 4,
  "nbformat_minor": 0,
  "metadata": {
    "colab": {
      "provenance": [],
      "authorship_tag": "ABX9TyPjdAOR8dTIPIks07BzNe/R",
      "include_colab_link": true
    },
    "kernelspec": {
      "name": "python3",
      "display_name": "Python 3"
    },
    "language_info": {
      "name": "python"
    }
  },
  "cells": [
    {
      "cell_type": "markdown",
      "metadata": {
        "id": "view-in-github",
        "colab_type": "text"
      },
      "source": [
        "<a href=\"https://colab.research.google.com/github/rosacarla/rede-neural-MLP-S2/blob/main/Rede_Neural_MLP_S2.ipynb\" target=\"_parent\"><img src=\"https://colab.research.google.com/assets/colab-badge.svg\" alt=\"Open In Colab\"/></a>"
      ]
    },
    {
      "cell_type": "markdown",
      "source": [
        "# **TESTE DE REDE NEURAL MLP (MULTI-LAYER PERCEPTRON)**\n",
        "CURSO: INTELIGÊNCIA ARTIFICIAL APLICADA  \n",
        "DISCIPLINA: REDES NEURAIS  \n",
        "PROFESSOR: Edson Ruschel (autor do código original MLP_S2.py)  \n",
        "OBJETIVO: a rede deve identificar números escritos (ou desenhados) manualmente por seres humanos em tarefa de visão computacional  \n",
        "ESTUDANTE: Carla Edila Silveira  \n",
        "DATA: 08/09/2023\n",
        "\n",
        "<img src='https://machinelearninggeek.com/wp-content/uploads/2021/03/Multi-Layer-Perceptron-Neural-Network-using-Python-800x445.jpg' width=80% height=50%>"
      ],
      "metadata": {
        "id": "8atQ1Lm-Imim"
      }
    },
    {
      "cell_type": "code",
      "execution_count": 702,
      "metadata": {
        "id": "pUUTqzVaIH23"
      },
      "outputs": [],
      "source": [
        "# IMPORTAÇÃO DE BIBLIOTECAS\n",
        "import matplotlib.pyplot as plt  # Necessario instalar matplotlib (Spyder, pip)\n",
        "import numpy as np\n",
        "import tensorflow as tf  # Necessario atualizar devido conflito em metricas\n",
        "from keras.src.layers import Dense\n",
        "from sklearn.model_selection import train_test_split\n",
        "import tensorflow._api.v2 as tf  # Necessario para para ajustar o compat\n",
        "import tensorflow.compat.v2 as tf # Necessario por erro de execução no Spyder\n",
        "from tensorflow.keras import Sequential"
      ]
    },
    {
      "cell_type": "code",
      "source": [
        "# CRIAÇÃO DO MODELO MLP\n",
        "\n",
        "model = Sequential()"
      ],
      "metadata": {
        "id": "4SqUz8LrIM6S"
      },
      "execution_count": 703,
      "outputs": []
    },
    {
      "cell_type": "code",
      "source": [
        "# DEFINIÇÃO DA QUANTIDADE DE NEURÔNIOS DAS CAMADAS\n",
        "\n",
        "# Quantidade de neurônios da Camada Oculta 1\n",
        "n1 = 10\n",
        "\n",
        "# Quantidade de neurônios da Camada de Saída\n",
        "ns = 10"
      ],
      "metadata": {
        "id": "JsIu9OxBIVO3"
      },
      "execution_count": 704,
      "outputs": []
    },
    {
      "cell_type": "code",
      "source": [
        "# DEFINIÇÃO DAS FUNÇÕES DE ATIVAÇÃO\n",
        "    # relu    -> Rectified Linear Unit (Unidade Linear Retificada)\n",
        "    # sigmoid -> sigmoid(x) = 1 / (1 + exp(-x))\n",
        "    # tanh    -> Tangente hiperbólica\n",
        "    # softmax -> Utilizada na camada de saída\n",
        "\n",
        "# Função de Ativação da Camada Oculta 1\n",
        "fa1 = 'tanh'\n",
        "\n",
        "# Função de Ativação da Camada de Saída\n",
        "fas = 'softmax'"
      ],
      "metadata": {
        "id": "ec6Y5UEoIa_G"
      },
      "execution_count": 705,
      "outputs": []
    },
    {
      "cell_type": "code",
      "source": [
        "# ADIÇÃO DE CAMADAS À REDE NEURAL\n",
        "\n",
        "# Primeira Camada Oculta (o input_dim é a própria camada de entrada)\n",
        "model.add(Dense(units=n1, activation=fa1, input_dim=784))\n",
        "\n",
        "# Camada de Saída\n",
        "model.add(Dense(units=ns, activation=fas))"
      ],
      "metadata": {
        "id": "xNbRGpbcJgrI"
      },
      "execution_count": 706,
      "outputs": []
    },
    {
      "cell_type": "code",
      "source": [
        "# DEFINIÇÃO DA FUNÇÃO DE PERDA\n",
        "    # mean_squared_error       -> Erro quadrático médio.\n",
        "    # binary_crossentropy      -> Entropia cruzada binária.\n",
        "    # categorical_crossentropy -> Entropia cruzada categórica.\n",
        "    # mean_absolute_error      -> Erro absoluto médio.\n",
        "\n",
        "fp = 'mean_absolute_error'"
      ],
      "metadata": {
        "id": "WvMU4jEiJlNe"
      },
      "execution_count": 707,
      "outputs": []
    },
    {
      "cell_type": "code",
      "source": [
        "# DEFINIÇÃO DO OTIMIZADOR\n",
        "    # sgd     -> Descida de gradiente estocástico (SGD).\n",
        "    # adam    -> SGD com adaptação de taxa de aprendizado.\n",
        "    # rmsprop -> Baseado em Root Mean Square Propagation.\n",
        "    # adagrad -> Adapta a taxa de aprendizado para cada parâmetro.\n",
        "\n",
        "otimizador = 'adam'"
      ],
      "metadata": {
        "id": "kxFFG3_YJnVj"
      },
      "execution_count": 708,
      "outputs": []
    },
    {
      "cell_type": "markdown",
      "source": [
        "### 🧠 DEFINIÇÃO DAS MÉTRICAS\n",
        "    # accuracy            -> Acurácia.\n",
        "    # precision           -> Precisão.\n",
        "    # recall              -> Revocação.\n",
        "    # f1-score            -> Pontuação F1.\n",
        "    # mean_squared_error  -> Erro quadrático médio.\n",
        "    # mean_absolute_error -> Erro absoluto médio.\n",
        "\n"
      ],
      "metadata": {
        "id": "XDcScWmgJ1PI"
      }
    },
    {
      "cell_type": "code",
      "source": [
        "# custom_metric = 'accuracy'"
      ],
      "metadata": {
        "id": "aFwqmc2CXUUl"
      },
      "execution_count": 709,
      "outputs": []
    },
    {
      "cell_type": "markdown",
      "source": [
        "❗<b>OBSERVAÇÃO:</b> Essa métrica foi renomeada para tratar conflito entre nomes de métricas de acurácia padrão Keras;\n",
        "como não resolveu o erro, então a solução foi retirá-la do código."
      ],
      "metadata": {
        "id": "inTJeoFQX5tA"
      }
    },
    {
      "cell_type": "code",
      "source": [
        "# COMPILAÇÃO DO MODELO\n",
        "\n",
        "model.compile(loss=fp, optimizer=otimizador, metrics=['accuracy'])\n",
        "# adicionada metrica de acuracia do padrao Keras para eliminar conflito\n",
        "# model.compile(loss=fp, optimizer=otimizador, metrics=[custom_metric])"
      ],
      "metadata": {
        "id": "M_B7-0F3KSZS"
      },
      "execution_count": 710,
      "outputs": []
    },
    {
      "cell_type": "code",
      "source": [
        "# CARREGAMENTO DOS DADOS DE TREINAMENTO E TESTE\n",
        "\n",
        "(x_train, y_train), (x_test, y_test) = tf.keras.datasets.mnist.load_data()"
      ],
      "metadata": {
        "id": "Z61ku4HVKUDA"
      },
      "execution_count": 711,
      "outputs": []
    },
    {
      "cell_type": "code",
      "source": [
        "# PRÉ-PROCESSAMENTO DOS DADOS\n",
        "\n",
        "# Redimensionar as imagens para um vetor unidimensional\n",
        "x_train = x_train.reshape(-1, 784)\n",
        "x_test = x_test.reshape(-1, 784)\n",
        "\n",
        "# Converter para tipo float32\n",
        "x_train = x_train.astype('float32')\n",
        "x_test = x_test.astype('float32')\n",
        "\n",
        "# Normalizar os valores dos pixels para o intervalo [0, 1]\n",
        "x_train /= 255.0\n",
        "x_test /= 255.0"
      ],
      "metadata": {
        "id": "nHUE3FnOKZVB"
      },
      "execution_count": 712,
      "outputs": []
    },
    {
      "cell_type": "code",
      "source": [
        "# TRANSFORMAÇÃO DOS RÓTULOS EM CODIFICAÇÃO ONE-HOT\n",
        "\n",
        "y_train = tf.keras.utils.to_categorical(y_train, num_classes=10)\n",
        "y_test = tf.keras.utils.to_categorical(y_test, num_classes=10)"
      ],
      "metadata": {
        "id": "nN1aj_7bKg5f"
      },
      "execution_count": 713,
      "outputs": []
    },
    {
      "cell_type": "code",
      "source": [
        "# DEFINIÇÃO DO PERCENTUAL DO CONJUNTO DE DADOS DE TESTE\n",
        "\n",
        "dados_teste = 0.90 # 0.90 significa 90% para teste e 10% para treinamento"
      ],
      "metadata": {
        "id": "Oixo5fJuKoQ0"
      },
      "execution_count": 714,
      "outputs": []
    },
    {
      "cell_type": "code",
      "source": [
        "# DIVISÃO DOS DADOS EM CONJUNTOS DE TREINAMENTO E TESTE\n",
        "\n",
        "x_train, x_test, y_train, y_test = train_test_split(x_train, y_train, test_size=dados_teste, random_state=42)"
      ],
      "metadata": {
        "id": "ovou0MUyKtTi"
      },
      "execution_count": 715,
      "outputs": []
    },
    {
      "cell_type": "code",
      "source": [
        "# DEFINIÇÃO DO NÚMERO DE ÉPOCAS E NÚMERO DE AMOSTRAS\n",
        "\n",
        "epocas = 2\n",
        "amostras = 256"
      ],
      "metadata": {
        "id": "goEaISdeKxQ-"
      },
      "execution_count": 716,
      "outputs": []
    },
    {
      "cell_type": "code",
      "source": [
        "# TREINAMENTO DA REDE NEURAL MLP\n",
        "\n",
        "model.fit(x_train, y_train, epochs = epocas, batch_size = amostras)"
      ],
      "metadata": {
        "colab": {
          "base_uri": "https://localhost:8080/"
        },
        "id": "uFtwB2vcK2At",
        "outputId": "b5160fd6-0c5e-4d99-d705-1bc892f8f0b7"
      },
      "execution_count": 717,
      "outputs": [
        {
          "output_type": "stream",
          "name": "stdout",
          "text": [
            "Epoch 1/2\n",
            "24/24 [==============================] - 1s 3ms/step - loss: 0.1720 - accuracy: 0.3405\n",
            "Epoch 2/2\n",
            "24/24 [==============================] - 0s 3ms/step - loss: 0.1500 - accuracy: 0.6317\n"
          ]
        },
        {
          "output_type": "execute_result",
          "data": {
            "text/plain": [
              "<keras.src.callbacks.History at 0x7e5b92e1e500>"
            ]
          },
          "metadata": {},
          "execution_count": 717
        }
      ]
    },
    {
      "cell_type": "code",
      "source": [
        "# AVALIAÇÃO DO MODELO (PERDA E ACURÁCIA)\n",
        "\n",
        "loss, accuracy = model.evaluate(x_test, y_test)"
      ],
      "metadata": {
        "colab": {
          "base_uri": "https://localhost:8080/"
        },
        "id": "XqEZ4M6dMRUb",
        "outputId": "35b50612-0935-495e-fc3d-dafd1a035c5d"
      },
      "execution_count": 718,
      "outputs": [
        {
          "output_type": "stream",
          "name": "stdout",
          "text": [
            "1688/1688 [==============================] - 3s 2ms/step - loss: 0.1399 - accuracy: 0.6443\n"
          ]
        }
      ]
    },
    {
      "cell_type": "code",
      "source": [
        "# REALIZAÇÃO DE PREVISÕES COM DADOS ORIGINAIS\n",
        "\n",
        "predictions = model.predict(x_test)"
      ],
      "metadata": {
        "colab": {
          "base_uri": "https://localhost:8080/"
        },
        "id": "k_-GOoWOMq1A",
        "outputId": "9310cb10-675d-485c-9319-388baeaaf0f6"
      },
      "execution_count": 719,
      "outputs": [
        {
          "output_type": "stream",
          "name": "stdout",
          "text": [
            "1688/1688 [==============================] - 3s 2ms/step\n"
          ]
        }
      ]
    },
    {
      "cell_type": "code",
      "source": [
        "# SELEÇÃO DO NÚMERO DE AMOSTRAS PARA TESTE\n",
        "\n",
        "# Selecione valores maiores que zero para testar\n",
        "amostras_previsao = 20\n",
        "\n",
        "# Sorteio de amostras de acordo com o número de amostras (amostras_previsao)\n",
        "samples = np.random.choice(len(x_test), amostras_previsao)\n",
        "idx=0"
      ],
      "metadata": {
        "id": "HW48adKEMzGD"
      },
      "execution_count": 720,
      "outputs": []
    },
    {
      "cell_type": "code",
      "source": [
        "# EXIBIÇÃO DAS IMAGENS E PREVISÕES CORRESPONDENTES\n",
        "\n",
        "# Número de colunas que deseja exibir\n",
        "num_colunas = 2\n",
        "\n",
        "# Número de amostras que deseja exibir\n",
        "amostras_previsao = 20\n",
        "\n",
        "# Sorteie amostras de acordo com o número de amostras (amostras_previsao)\n",
        "samples = np.random.choice(len(x_test), amostras_previsao)\n",
        "\n",
        "# Tamanho das figuras (6 cm de altura e 3 cm de largura)\n",
        "figsize = (5, 4)\n",
        "\n",
        "# Espaçamento entre as colunas\n",
        "hspace = 0.1\n",
        "\n",
        "# Crie uma figura com subplots\n",
        "num_linhas = (amostras_previsao + num_colunas - 1) // num_colunas\n",
        "fig, axs = plt.subplots(num_linhas, num_colunas, figsize=(figsize[0] * num_colunas, figsize[1] * num_linhas))\n",
        "\n",
        "for i, idx in enumerate(samples):\n",
        "    image = x_test[idx].reshape((28, 28))  # Redimensionar a imagem para o formato original\n",
        "    label_true = np.argmax(y_test[idx])  # Rótulo do número real\n",
        "    label_pred = np.argmax(predictions[idx])  # Rótulo do número previsto\n",
        "\n",
        "    # Exiba a imagem na subfigura correspondente\n",
        "    ax = axs[i // num_colunas, i % num_colunas]\n",
        "    ax.imshow(image, cmap='gray')\n",
        "    ax.set_title(f'Real: {label_true}\\nReconhecido: {label_pred}')\n",
        "    ax.axis('off')\n",
        "\n",
        "    # Ajuste o espaçamento entre as colunas\n",
        "    plt.subplots_adjust(wspace=hspace, hspace=0.5)\n",
        "\n",
        "# Salvar a figura em um arquivo (por exemplo, PNG)\n",
        "plt.savefig('imagens_previsoes.png')\n",
        "\n",
        "# Exiba a figura\n",
        "plt.show()"
      ],
      "metadata": {
        "colab": {
          "base_uri": "https://localhost:8080/",
          "height": 1000
        },
        "id": "k1XcQCDCM1vs",
        "outputId": "afdf4004-7c37-4018-91cb-2337f01eb5ea"
      },
      "execution_count": 721,
      "outputs": [
        {
          "output_type": "display_data",
          "data": {
            "text/plain": [
              "<Figure size 1000x4000 with 20 Axes>"
            ],
            "image/png": "[encoded data removed]"
          },
          "metadata": {}
        }
      ]
    },
    {
      "cell_type": "code",
      "source": [
        "# Exibir a Perda e a Precisão\n",
        "print(f\"Função de Perda: {loss:.4f}\")\n",
        "print(f\"Precisão: {accuracy:.4f}\")"
      ],
      "metadata": {
        "colab": {
          "base_uri": "https://localhost:8080/"
        },
        "id": "xmd5mSgINNoE",
        "outputId": "4fc622e2-b62d-415f-b8e6-ffa6e633304a"
      },
      "execution_count": 722,
      "outputs": [
        {
          "output_type": "stream",
          "name": "stdout",
          "text": [
            "Função de Perda: 0.1399\n",
            "Precisão: 0.6443\n"
          ]
        }
      ]
    },
    {
      "cell_type": "markdown",
      "source": [
        "### 🎯MÉTRICAS POR EXECUÇÃO\n",
        "** Camada com 2 neurônios  \n",
        "1a.) Função de Perda: 0.1724 | Precisão: 0.2235  \n",
        "2a.) Função de Perda: 0.1749 | Precisão: 0.2270  \n",
        "3a.) Função de Perda: 0.1742 | Precisão: 0.2690  \n",
        "4a.) Função de perda: 0.1721 | Precisao: 0.2691  \n",
        "** Camada com 3 neurônios    \n",
        "5a.) Função de perda: 0.1700 | Precisao: 0.3021  \n",
        "6a.) Função de Perda: 0.1691 | Precisão: 0.4550  \n",
        "7a.) Função de Perda: 0.1712 | Precisão: 0.2496  \n",
        "8a.) Função de Perda: 0.1689 | Precisão: 0.3157  \n",
        "** Camada com 4 neurônios  \n",
        "9a.) Função de Perda: 0.1648 | Precisão: 0.4525  \n",
        "10a.) Função de Perda: 0.1616 | Precisão: 0.4532  \n",
        "11a.) Função de Perda: 0.1664 | Precisão: 0.4347  \n",
        "12a.) Função de Perda: 0.1643 | Precisão: 0.4308  \n",
        "** Camada com 5 neurônios  \n",
        "13a.) Função de Perda: 0.1602 | Precisão: 0.4765  \n",
        "** Camada com 6 neurônios  \n",
        "14a.) Função de Perda: 0.1576 | Precisão: 0.5043  \n",
        "** Camada com 7 neurônios  \n",
        "15a.) Função de Perda: 0.1554 | Precisão: 0.5028  \n",
        "** Camada com 8 neurônios  \n",
        "16a.) Função de Perda: 0.1451 | Precisão: 0.5569  \n",
        "** Camada com 9 neurônios  \n",
        "17a.) Função de Perda: 0.1389 | Precisão: 0.5787  \n",
        "** Camada com 10 neurônios  \n",
        "18a.) Função de Perda: 0.1399 | Precisão: 0.6443\n",
        "\n",
        ""
      ],
      "metadata": {
        "id": "tUCdxazynJp3"
      }
    },
    {
      "cell_type": "markdown",
      "source": [
        "## ⚛ <b>ANÁLISE DO MODELO</b>\n",
        "\n",
        "<p align=\"justify\">FINALIDADE: fornecer elementos básicos para entender o funcionamento de uma Rede Neural MLP; possibilitar a alteração de parâmetros do código em linguagem Python para compreender as mudanças de desempenho do modelo durante e após o treinamento da rede.</p>\n",
        "\n"
      ],
      "metadata": {
        "id": "JWoJ_3oMfcrX"
      }
    },
    {
      "cell_type": "markdown",
      "source": [
        "### QUESTÃO 1\n",
        "<p align=\"justify\">a) Rodar o modelo com o código em seu formato original. Provavelmente, alguns números entre os 20 testados (e visualizados) não serão identificados de forma correta nos resultados.</p>\n",
        "<p align=\"justify\">b) Qual foi o valor obtido para a “precisão” do modelo? Justifique, com suas palavras, o porquê de a precisão ser tão baixa com essas configurações originais.</p>  \n",
        "<p align=\"justify\">c) Quais são os parâmetros configuráveis que mais estão impactando na precisão do modelo e por quê?</p>"
      ],
      "metadata": {
        "id": "2S6SxeEjgEbt"
      }
    },
    {
      "cell_type": "markdown",
      "source": [
        "### RESPOSTA DA QUESTÃO 1\n",
        "A precisão (<i>accuracy</i>) baixa do modelo pode ter ocorrido por diversas razões com base nas configurações originais do modelo:\n",
        "\n",
        "<p align=\"justify\">1. <b>Número de Neurônios</b>: A camada oculta tem apenas 2 neurônios. Redes neurais rasas com poucos neurônios podem não ser capazes de capturar características complexas dos dados. Aumentar o número de neurônios na camada oculta pode melhorar a capacidade do modelo.</p>\n",
        "\n",
        "<p align=\"justify\">2. <b>Função de Ativação</b>: É uma escolha válida, mas outras funções como 'relu' geralmente funcionam bem para redes neurais profundas. Experimentar funções de ativação diferentes pode ter um impacto na precisão.</p>\n",
        "\n",
        "<p align=\"justify\">3. <b>Função de Perda</b>: 'mean_absolute_error' pode não ser apropriada para um problema de classificação multiclasse como o MNIST. Geralmente, a 'categorical_crossentropy' é usada para problemas de classificação.</p>\n",
        "\n",
        "<p align=\"justify\">4. <b>Otimizador</b>: 'adam' é uma escolha razoável, mas diferentes otimizadores podem funcionar melhor de acordo com o problema. O ajuste dos hiperparâmetros do otimizador, como a taxa de aprendizado, também pode ser necessário.</p>\n",
        "\n",
        "<p align=\"justify\">5. <b>Número de Épocas e Tamanho do Lote (Batch Size)</b>: Com apenas 2 épocas de treinamento e um tamanho de lote pequeno (256 amostras), o modelo pode não ter convergido completamente. Aumentar o número de épocas e o tamanho do lote pode ajudar a melhorar a precisão.</p>\n",
        "\n",
        "<p align=\"justify\">6. <b>Arquitetura da Rede</b>: Uma rede neural MLP simples pode não ser suficiente para alcançar alta precisão no MNIST. Arquiteturas mais complexas, como redes neurais convolucionais (CNNs), são mais adequadas para tarefas de visão computacional.</p>\n",
        "\n",
        "<p align=\"justify\">7. <b>Pré-processamento de Dados</b>: O pré-processamento dos dados é muito importante. Recomenda-se confrimar que os dados estejam normalizados corretamente e as codificações one-hot para rótulos estejam corretas.</p>\n",
        "\n",
        "<p align=\"justify\">8. <b>Divisão de Dados</b>: A divisão entre conjuntos de treinamento e teste pode afetar a precisão. Recomenda-se confirmar que a divisão foi feita de modo aleatório e representativo.</p>\n",
        "\n",
        "<p align=\"justify\">9. <b>Tamanho da Camada de Saída</b>: A camada de saída tem 10 unidades, o que é apropriado para o MNIST, mas pode ser necessário ajustar para outros conjuntos de dados.</p>\n",
        "\n",
        "<p align=\"justify\">10. <b>Inicialização de Pesos</b>: A inicialização de pesos padrão pode afetar o treinamento. Experimentar inicializações de pesos diferentes, como Xavier ou He, pode ser benéfico.</p>\n",
        "\n",
        "<p align=\"justify\"><b>PARA MELHORAR A PRECISÃO:</b> é possível começar com ajuste do número de neurônios na camada oculta, experimentar funções de ativação diferentes, trocar função de perda para 'categorical_crossentropy', ajustar a taxa de aprendizado e aumentar o número de épocas de treinamento. Além disso, considerar uso de arquiteturas mais avançadas, como CNNs, pode melhorar ainda mais o desempenho.</p>"
      ],
      "metadata": {
        "id": "GAayMR-xg1gD"
      }
    },
    {
      "cell_type": "markdown",
      "source": [
        "### QUESTÃO 2\n",
        "<p align=\"justify\">a) De acordo com sua resposta na questão 1, alterar os parâmetros identificados como impactantes na precisão do modelo e rodar o treinamento e teste novamente.</p>\n",
        "<p align=\"justify\">b) Quais os novos valores utilizados para os parâmetros configuráveis que foram alterados e por que foram escolhidos tais valores?</p>\n",
        "<p align=\"justify\">c) Qual foi o valor obtido para a “precisão” desta vez?</p>"
      ],
      "metadata": {
        "id": "4EaFe8Onth3I"
      }
    },
    {
      "cell_type": "markdown",
      "source": [
        "### RESPOSTA DA QUESTÃO 2\n",
        "Foi utilizado o valor 3 para o parâmetro da camada oculta de neurônios, para observar se haveria melhoria das métricas (taxa de perda e precisão). Na 1a execução com 3 neurônios, foi obtido um resultado melhor do que nas execuções anteriores:   \n",
        "- <b>Função de Perda: 0.1700 | Precisão: 0.3021</b>  \n",
        "\n",
        "Considerando o total de 5 execuções, a função de perda foi a menor e a precisão foi a maior."
      ],
      "metadata": {
        "id": "LJ-0dgwpuObc"
      }
    },
    {
      "cell_type": "markdown",
      "source": [
        "### QUESTÃO 3\n",
        "<p align=\"justify\">a) É possível realizar melhorias na estrutura do código (arquitetura da rede) para conseguir desempenho ainda melhor do modelo?</p>\n",
        "<p align=\"justify\">b) Se sim, cite alguns exemplos de alteração para que tal melhoria de desempenho seja alcançada.</p>"
      ],
      "metadata": {
        "id": "_-PWagqN6qa3"
      }
    },
    {
      "cell_type": "markdown",
      "source": [
        "### RESPOSTA A QUESTÃO 3\n",
        "<p align=\"justify\">É possível acrescentar melhorias na arquitetura da rede neural para obter desempenho melhor do modelo, desde que tais melhorias estejam dentro das restrições especificadas de não introduzir novos componentes ou técnicas na rede neural. Alguns exemplos de alterações que podem aprimorar o desempenho do modelo seriam estes:</p>\n",
        "\n",
        "<p align=\"justify\">1.<b>Aumentar o número de neurônios na camada oculta:</b> O aumento pode permitir que o modelo aprenda características mais complexas dos dados, mas é preciso cuidado para não aumentar demais, pois isso pode levar a <i>overfitting</i> (treino excessivo).</p>\n",
        "\n",
        "<p align=\"justify\">2.<b>Adicionar camadas ocultas:</b> O acrescimo de camadas ocultas à rede neural para torná-la mais profunda. Redes mais profundas têm o potencial de aprender representações mais abstratas dos dados.</p>\n",
        "\n",
        "<p align=\"justify\">3.<b>Ajustar a taxa de aprendizado:</b> Experimentar diferentes valores para a taxa de aprendizado (<i>learning rate</i>), pois uma taxa de aprendizado adequada é fundamental para o treinamento bem-sucedido de uma rede.</p>\n",
        "\n",
        "<p align=\"justify\">4.<b>Aumentar o número de épocas:</b>  Há possibilidade de  treinar a rede por mais épocas para permitir que continue aprendendo. No entanto, é necessário observar o risco de <i>overfitting</i></p>.\n",
        "\n",
        "<p align=\"justify\">5. <b>Experimentar diferentes funções de ativação:</b> Testar diferentes funções de ativação nas camadas ocultas, como ReLU, Leaky ReLU ou ELU, para ver qual funciona melhor para o problema.</p>\n",
        "\n",
        "<p align=\"justify\">6. <b>Ajustar o tamanho do lote (batch size):</b> Alterar o tamanho do lote pode afetar o processo de treinamento. Experimentar diferentes tamanhos de lote possibilita ver qual funciona melhor.</p>\n",
        "\n",
        "<p align=\"justify\">7. <b>Usar regularização: </b>Se necessário, adicionar regularização L1 ou L2 às camadas para evitar <i>overfitting</i>.</p>\n",
        "\n",
        "<p align=\"justify\">8. <b>Experimentar otimizadores:</b> Além do Adam, há outros otimizadores, como o RMSprop ou SGD com momento, para testar e ver se melhoram o desempenho.</p>\n",
        "\n",
        "<p align=\"justify\">9. <b>Tamanho da camada de saída:</b> Ajustar o número de neurônios na camada de saída, dependendo do problema de classificação. É importante se certificar de que corresponda ao número de classes no conjunto de dados.</p>\n",
        "\n",
        "<p align=\"justify\"><b>CONSIDERAÇÕES FINAIS:</b> Essas são apenas algumas sugestões. A escolha dos hiperparâmetros depende do conjunto de dados específico e do problema que há para resolver. É importante realizar experimentos e ajustes iterativos para encontrar a configuração que oferece o melhor desempenho para cada caso. Por fim, é fundamental monitorar o desempenho em um conjunto de validação para evitar <i>overfitting</i>.</p>"
      ],
      "metadata": {
        "id": "w4MmzjVM7JBN"
      }
    }
  ]
}